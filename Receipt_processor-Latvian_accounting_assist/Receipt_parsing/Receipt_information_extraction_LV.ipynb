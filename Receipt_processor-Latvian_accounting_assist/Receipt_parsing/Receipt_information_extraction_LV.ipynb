{
  "nbformat": 4,
  "nbformat_minor": 0,
  "metadata": {
    "colab": {
      "provenance": []
    },
    "kernelspec": {
      "name": "python3",
      "display_name": "Python 3"
    },
    "language_info": {
      "name": "python"
    }
  },
  "cells": [
    {
      "cell_type": "markdown",
      "source": [
        "# Receipt Information Extraction for Latvian Accounting with Donut"
      ],
      "metadata": {
        "id": "2OTACX0nhWo7"
      }
    },
    {
      "cell_type": "markdown",
      "source": [
        "## Preparation"
      ],
      "metadata": {
        "id": "h1KXrJ_OiKwR"
      }
    },
    {
      "cell_type": "markdown",
      "source": [
        "First we clone the Donut repository from GitHub onto your local machine or virtual environment. This step is necessary to access the Donut code and files for the next steps. We install the required Python dependencies for Donut using pip. This command installs the Donut package and its dependencies."
      ],
      "metadata": {
        "id": "knyiUCO8iqkJ"
      }
    },
    {
      "cell_type": "code",
      "execution_count": null,
      "metadata": {
        "id": "gqEHXnz0tcDD"
      },
      "outputs": [],
      "source": [
        "!git clone https://github.com/clovaai/donut.git\n",
        "!cd donut && pip install ."
      ]
    },
    {
      "cell_type": "markdown",
      "source": [
        "## Uploading your images"
      ],
      "metadata": {
        "id": "ypKGjw8ajJeu"
      }
    },
    {
      "cell_type": "markdown",
      "source": [
        "When taking photos of your receipts, it's important to follow certain guidelines to ensure the best possible results. Although Donut is a powerful tool that can extract information from low-quality photos, following these guidelines will improve the accuracy and quality of the results:\n",
        "\n",
        "1. Have  a background taht contrasts with the receipt (f.ex. black background for white paper receipt)\n",
        "\n",
        "2. Capture the entire receipt: Make sure that the entire receipt is visible in the photo, including any edges or corners that may contain important information.\n",
        "\n",
        "3. Ensure good lighting: Take photos in a well-lit area or use additional lighting if necessary. Avoid taking photos in dimly lit or shadowy areas.\n",
        "\n",
        "4. Minimize reflections and glare: Position the camera perpendicular to the receipt and avoid capturing any reflections or glare on the receipt.\n",
        "\n",
        "5. Ensure sharpness and clarity: Take clear and focused photos to ensure all text and details are legible.\n",
        "\n",
        "6. Use high resolution: Take photos at a high resolution to capture all necessary details.\n",
        "\n",
        "Now create a folder and place all your receipt images inside it. Then, zip the folder containing the images and upload it to your desired location.\n",
        "\n",
        "Once the folder is uploaded, you will need to extract its contents."
      ],
      "metadata": {
        "id": "35QivVM8hUyZ"
      }
    },
    {
      "cell_type": "code",
      "source": [
        "!unzip /content/img.zip -d /content/img"
      ],
      "metadata": {
        "id": "fWpSN5dffFx5"
      },
      "execution_count": null,
      "outputs": []
    },
    {
      "cell_type": "markdown",
      "source": [
        "## Information extraction \n",
        "\n",
        "Next we load Donut model finetuned by Inesence on 220 Latvian receipts, which reads in the images from a folder named \"img\", and generates a text sequence for each image. The resulting text is processed and saved as JSON files in a new folder called \"keys\". "
      ],
      "metadata": {
        "id": "GQ9DTxz3nqHo"
      }
    },
    {
      "cell_type": "code",
      "source": [
        "import torch\n",
        "import re\n",
        "import json\n",
        "from PIL import Image\n",
        "import os\n",
        "from transformers import DonutProcessor, VisionEncoderDecoderModel\n",
        "\n",
        "\n",
        "# Load our model from Hugging Face\n",
        "processor = DonutProcessor.from_pretrained(\"inesence/donut-base-finetuned-Latvian-receipts\")\n",
        "model = VisionEncoderDecoderModel.from_pretrained(\"inesence/donut-base-finetuned-Latvian-receipts\")\n",
        "\n",
        "# Create keys folder\n",
        "os.mkdir(\"/content/keys\")\n",
        "\n",
        "# Define image folder\n",
        "folder = \"/content/img/\"\n",
        "\n",
        "nr=0\n",
        "\n",
        "# xtract information and save it to JSON files\n",
        "for files in os.listdir(folder):\n",
        "          image = Image.open(files).convert(\"RGB\")\n",
        "          pixel_values = processor(image, return_tensors=\"pt\").pixel_values\n",
        "          \n",
        "          task_prompt = \"<s>\"\n",
        "          decoder_input_ids = processor.tokenizer(task_prompt, add_special_tokens=False, return_tensors=\"pt\")[\"input_ids\"]\n",
        "\n",
        "          device = \"cuda\" if torch.cuda.is_available() else \"cpu\"\n",
        "          model.to(device)\n",
        "\n",
        "          outputs = model.generate(pixel_values.to(device),\n",
        "                                        decoder_input_ids=decoder_input_ids.to(device),\n",
        "                                        max_length=model.decoder.config.max_position_embeddings,\n",
        "                                        early_stopping=True,\n",
        "                                        pad_token_id=processor.tokenizer.pad_token_id,\n",
        "                                        eos_token_id=processor.tokenizer.eos_token_id,\n",
        "                                        use_cache=True,\n",
        "                                        num_beams=1,\n",
        "                                        bad_words_ids=[[processor.tokenizer.unk_token_id]],\n",
        "                                        return_dict_in_generate=True,\n",
        "                                        output_scores=True,)\n",
        "\n",
        "\n",
        "          sequence = processor.batch_decode(outputs.sequences)[0]\n",
        "          sequence = sequence.replace(processor.tokenizer.eos_token, \"\").replace(processor.tokenizer.pad_token, \"\")\n",
        "          sequence = re.sub(r\"<.*?>\", \"\", sequence, count=1).strip()  # remove first task start token\n",
        "          #print(sequence)\n",
        "          output=processor.token2json(sequence)\n",
        "          print(output)\n",
        "\n",
        "          # Save the 'new_dict' dictionary to a JSON file\n",
        "          with open(f'/content/keys/{nr:03d}.json', 'w') as f:\n",
        "              json.dump(output, f, ensure_ascii=False) \n",
        "          nr+=1  "
      ],
      "metadata": {
        "id": "PaG3ByebVWvB"
      },
      "execution_count": null,
      "outputs": []
    },
    {
      "cell_type": "markdown",
      "source": [
        "## Download extracted information"
      ],
      "metadata": {
        "id": "go42rNHlp1kB"
      }
    },
    {
      "cell_type": "markdown",
      "source": [
        "Now we zip up the extracted information from the receipts and download it to our device. "
      ],
      "metadata": {
        "id": "f7HWPEZIpqfO"
      }
    },
    {
      "cell_type": "code",
      "source": [
        "!zip -r /content/keys.zip /content/keys\n"
      ],
      "metadata": {
        "id": "6ddV-f_L-WTR"
      },
      "execution_count": null,
      "outputs": []
    },
    {
      "cell_type": "code",
      "source": [
        "from google.colab import files\n",
        "files.download('/content/keys.zip')"
      ],
      "metadata": {
        "id": "8SraSb_KBkqr",
        "outputId": "f6328dc0-19b2-4619-8377-8662d9646193",
        "colab": {
          "base_uri": "https://localhost:8080/",
          "height": 17
        }
      },
      "execution_count": 8,
      "outputs": [
        {
          "output_type": "display_data",
          "data": {
            "text/plain": [
              "<IPython.core.display.Javascript object>"
            ],
            "application/javascript": [
              "\n",
              "    async function download(id, filename, size) {\n",
              "      if (!google.colab.kernel.accessAllowed) {\n",
              "        return;\n",
              "      }\n",
              "      const div = document.createElement('div');\n",
              "      const label = document.createElement('label');\n",
              "      label.textContent = `Downloading \"${filename}\": `;\n",
              "      div.appendChild(label);\n",
              "      const progress = document.createElement('progress');\n",
              "      progress.max = size;\n",
              "      div.appendChild(progress);\n",
              "      document.body.appendChild(div);\n",
              "\n",
              "      const buffers = [];\n",
              "      let downloaded = 0;\n",
              "\n",
              "      const channel = await google.colab.kernel.comms.open(id);\n",
              "      // Send a message to notify the kernel that we're ready.\n",
              "      channel.send({})\n",
              "\n",
              "      for await (const message of channel.messages) {\n",
              "        // Send a message to notify the kernel that we're ready.\n",
              "        channel.send({})\n",
              "        if (message.buffers) {\n",
              "          for (const buffer of message.buffers) {\n",
              "            buffers.push(buffer);\n",
              "            downloaded += buffer.byteLength;\n",
              "            progress.value = downloaded;\n",
              "          }\n",
              "        }\n",
              "      }\n",
              "      const blob = new Blob(buffers, {type: 'application/binary'});\n",
              "      const a = document.createElement('a');\n",
              "      a.href = window.URL.createObjectURL(blob);\n",
              "      a.download = filename;\n",
              "      div.appendChild(a);\n",
              "      a.click();\n",
              "      div.remove();\n",
              "    }\n",
              "  "
            ]
          },
          "metadata": {}
        },
        {
          "output_type": "display_data",
          "data": {
            "text/plain": [
              "<IPython.core.display.Javascript object>"
            ],
            "application/javascript": [
              "download(\"download_61dd6804-a79a-44d3-b71d-aa2226d97d5f\", \"keys.zip\", 1669)"
            ]
          },
          "metadata": {}
        }
      ]
    }
  ]
}